{
 "cells": [
  {
   "cell_type": "markdown",
   "id": "e08add9f",
   "metadata": {},
   "source": [
    "# Task 1 "
   ]
  },
  {
   "cell_type": "markdown",
   "id": "7139832e",
   "metadata": {},
   "source": [
    "# Remove duplicate"
   ]
  },
  {
   "cell_type": "code",
   "execution_count": 19,
   "id": "ef96ee28",
   "metadata": {},
   "outputs": [],
   "source": [
    "a=[2,3,4,2,3,4,8,9,12,\"apple\",'Apple']"
   ]
  },
  {
   "cell_type": "code",
   "execution_count": 20,
   "id": "2e2e43ae",
   "metadata": {},
   "outputs": [],
   "source": [
    "B='i need an apple'"
   ]
  },
  {
   "cell_type": "code",
   "execution_count": 21,
   "id": "b873f8d4",
   "metadata": {},
   "outputs": [],
   "source": [
    "a=set(a)"
   ]
  },
  {
   "cell_type": "code",
   "execution_count": 22,
   "id": "719305d8",
   "metadata": {},
   "outputs": [
    {
     "data": {
      "text/plain": [
       "{12, 2, 3, 4, 8, 9, 'Apple', 'apple'}"
      ]
     },
     "execution_count": 22,
     "metadata": {},
     "output_type": "execute_result"
    }
   ],
   "source": [
    "a"
   ]
  },
  {
   "cell_type": "markdown",
   "id": "3c26b99a",
   "metadata": {},
   "source": [
    "# Task 2"
   ]
  },
  {
   "cell_type": "markdown",
   "id": "b170dbda",
   "metadata": {},
   "source": [
    "# slice 'apple' from the give variable"
   ]
  },
  {
   "cell_type": "code",
   "execution_count": 23,
   "id": "7b02e96f",
   "metadata": {},
   "outputs": [],
   "source": [
    "B='i need an apple'"
   ]
  },
  {
   "cell_type": "code",
   "execution_count": 24,
   "id": "761ed8b5",
   "metadata": {},
   "outputs": [],
   "source": [
    "B=(B[10:15])"
   ]
  },
  {
   "cell_type": "code",
   "execution_count": 25,
   "id": "f867bf75",
   "metadata": {},
   "outputs": [
    {
     "data": {
      "text/plain": [
       "'apple'"
      ]
     },
     "execution_count": 25,
     "metadata": {},
     "output_type": "execute_result"
    }
   ],
   "source": [
    "B"
   ]
  },
  {
   "cell_type": "markdown",
   "id": "6f69db36",
   "metadata": {},
   "source": [
    "# Task-3"
   ]
  },
  {
   "cell_type": "markdown",
   "id": "bf8c40ad",
   "metadata": {},
   "source": [
    "# add both number when both number are even,\n",
    "# multiple when both number are not a even number"
   ]
  },
  {
   "cell_type": "code",
   "execution_count": 26,
   "id": "4393c7f0",
   "metadata": {},
   "outputs": [],
   "source": [
    "def task3 (num1,num2):\n",
    "    if num1 and num2 % 2 == 0:\n",
    "        A=num1+num2\n",
    "        print(A, \"is even\")\n",
    "        return A\n",
    "    else:\n",
    "        A=num1*num2\n",
    "        print(A,\"is odd\")\n",
    "        return A"
   ]
  },
  {
   "cell_type": "code",
   "execution_count": 27,
   "id": "485dcc67",
   "metadata": {},
   "outputs": [
    {
     "name": "stdout",
     "output_type": "stream",
     "text": [
      "6 is even\n"
     ]
    },
    {
     "data": {
      "text/plain": [
       "6"
      ]
     },
     "execution_count": 27,
     "metadata": {},
     "output_type": "execute_result"
    }
   ],
   "source": [
    "task3 (2,4)"
   ]
  },
  {
   "cell_type": "code",
   "execution_count": 28,
   "id": "48b025b8",
   "metadata": {},
   "outputs": [
    {
     "name": "stdout",
     "output_type": "stream",
     "text": [
      "3 is odd\n"
     ]
    },
    {
     "data": {
      "text/plain": [
       "3"
      ]
     },
     "execution_count": 28,
     "metadata": {},
     "output_type": "execute_result"
    }
   ],
   "source": [
    "task3 (1,3)"
   ]
  },
  {
   "cell_type": "code",
   "execution_count": 29,
   "id": "f2f89794",
   "metadata": {},
   "outputs": [
    {
     "name": "stdout",
     "output_type": "stream",
     "text": [
      "15 is odd\n"
     ]
    },
    {
     "data": {
      "text/plain": [
       "15"
      ]
     },
     "execution_count": 29,
     "metadata": {},
     "output_type": "execute_result"
    }
   ],
   "source": [
    "task3 (5,3)"
   ]
  },
  {
   "cell_type": "code",
   "execution_count": 30,
   "id": "237a372b",
   "metadata": {},
   "outputs": [
    {
     "name": "stdout",
     "output_type": "stream",
     "text": [
      "3 is even\n"
     ]
    },
    {
     "data": {
      "text/plain": [
       "3"
      ]
     },
     "execution_count": 30,
     "metadata": {},
     "output_type": "execute_result"
    }
   ],
   "source": [
    "task3 (1,2)"
   ]
  },
  {
   "cell_type": "code",
   "execution_count": 31,
   "id": "afe5c6e2",
   "metadata": {},
   "outputs": [
    {
     "name": "stdout",
     "output_type": "stream",
     "text": [
      "6 is odd\n"
     ]
    },
    {
     "data": {
      "text/plain": [
       "6"
      ]
     },
     "execution_count": 31,
     "metadata": {},
     "output_type": "execute_result"
    }
   ],
   "source": [
    "task3 (2,3)"
   ]
  },
  {
   "cell_type": "code",
   "execution_count": 32,
   "id": "bb0c04d2",
   "metadata": {},
   "outputs": [
    {
     "name": "stdout",
     "output_type": "stream",
     "text": [
      "37981 is odd\n"
     ]
    },
    {
     "data": {
      "text/plain": [
       "37981"
      ]
     },
     "execution_count": 32,
     "metadata": {},
     "output_type": "execute_result"
    }
   ],
   "source": [
    "task3 (19,1999)"
   ]
  },
  {
   "cell_type": "markdown",
   "id": "67679ddd",
   "metadata": {},
   "source": [
    "# task 4"
   ]
  },
  {
   "cell_type": "code",
   "execution_count": 33,
   "id": "be57d9b0",
   "metadata": {},
   "outputs": [],
   "source": [
    "import task3"
   ]
  },
  {
   "cell_type": "code",
   "execution_count": 34,
   "id": "1038346f",
   "metadata": {},
   "outputs": [
    {
     "name": "stdout",
     "output_type": "stream",
     "text": [
      "27 is odd\n"
     ]
    }
   ],
   "source": [
    "task3.task3(3,9)"
   ]
  },
  {
   "cell_type": "code",
   "execution_count": 35,
   "id": "f790d3bd",
   "metadata": {},
   "outputs": [
    {
     "name": "stdout",
     "output_type": "stream",
     "text": [
      "10 is even\n"
     ]
    }
   ],
   "source": [
    "task3.task3(4,6)"
   ]
  },
  {
   "cell_type": "markdown",
   "id": "e1614380",
   "metadata": {},
   "source": [
    "# task 5"
   ]
  },
  {
   "cell_type": "code",
   "execution_count": 36,
   "id": "36ceb915",
   "metadata": {},
   "outputs": [
    {
     "name": "stdout",
     "output_type": "stream",
     "text": [
      "1 * 8 = 8\n",
      "2 * 8 = 16\n",
      "3 * 8 = 24\n",
      "4 * 8 = 32\n",
      "5 * 8 = 40\n",
      "6 * 8 = 48\n",
      "7 * 8 = 56\n",
      "8 * 8 = 64\n",
      "9 * 8 = 72\n",
      "10 * 8 = 80\n"
     ]
    }
   ],
   "source": [
    "m=1\n",
    "n=8\n",
    "while m < 11:\n",
    "    print(m,'*',n,\"=\",m*n)\n",
    "    m=m+1\n",
    "    "
   ]
  },
  {
   "cell_type": "markdown",
   "id": "c8542f43",
   "metadata": {},
   "source": [
    "#                                   THANKING YOU"
   ]
  },
  {
   "cell_type": "code",
   "execution_count": null,
   "id": "2fc0e8ff",
   "metadata": {},
   "outputs": [],
   "source": []
  },
  {
   "cell_type": "code",
   "execution_count": null,
   "id": "bc1ca070",
   "metadata": {},
   "outputs": [],
   "source": []
  },
  {
   "cell_type": "code",
   "execution_count": null,
   "id": "e6b3cb3a",
   "metadata": {},
   "outputs": [],
   "source": []
  },
  {
   "cell_type": "code",
   "execution_count": null,
   "id": "9dd423cb",
   "metadata": {},
   "outputs": [],
   "source": []
  }
 ],
 "metadata": {
  "kernelspec": {
   "display_name": "Python 3 (ipykernel)",
   "language": "python",
   "name": "python3"
  },
  "language_info": {
   "codemirror_mode": {
    "name": "ipython",
    "version": 3
   },
   "file_extension": ".py",
   "mimetype": "text/x-python",
   "name": "python",
   "nbconvert_exporter": "python",
   "pygments_lexer": "ipython3",
   "version": "3.10.8"
  }
 },
 "nbformat": 4,
 "nbformat_minor": 5
}
